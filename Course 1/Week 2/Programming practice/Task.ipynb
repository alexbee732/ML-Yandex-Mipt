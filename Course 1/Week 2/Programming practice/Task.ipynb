{
 "cells": [
  {
   "cell_type": "markdown",
   "metadata": {},
   "source": [
    "# Task 1"
   ]
  },
  {
   "cell_type": "code",
   "execution_count": 14,
   "metadata": {
    "collapsed": true
   },
   "outputs": [],
   "source": [
    "file_obj = open('sentences.txt', 'r')"
   ]
  },
  {
   "cell_type": "code",
   "execution_count": 3,
   "metadata": {},
   "outputs": [
    {
     "name": "stdout",
     "output_type": "stream",
     "text": [
      "<type 'str'>\n"
     ]
    }
   ],
   "source": [
    "print type(file_obj.read())"
   ]
  },
  {
   "cell_type": "code",
   "execution_count": 15,
   "metadata": {
    "collapsed": true
   },
   "outputs": [],
   "source": [
    "lower_text = (file_obj.read().lower())"
   ]
  },
  {
   "cell_type": "code",
   "execution_count": 79,
   "metadata": {},
   "outputs": [
    {
     "name": "stdout",
     "output_type": "stream",
     "text": [
      "in comparison to dogs, cats have not undergone major changes during the domestication process.\n",
      "as cat simply catenates streams of bytes, it can be also used to concatenate binary files, where it will just concatenate sequence of bytes.\n",
      "a common interactive use of cat for a single file is to output the content of a file to standard output.\n",
      "cats can hear sounds too faint or too high in frequency for human ears, such as those made by mice and other small animals.\n",
      "in one, people deliberately tamed cats in a process of artificial selection, as they were useful predators of vermin.\n",
      "the domesticated cat and its closest wild ancestor are both diploid organisms that possess 38 chromosomes and roughly 20,000 genes.\n",
      "domestic cats are similar in size to the other members of the genus felis, typically weighing between 4 and 5 kg (8.8 and 11.0 lb).\n",
      "however, if the output is piped or redirected, cat is unnecessary.\n",
      "cat with one named file is safer where human error is a concern - one wrong use of the default redirection symbol \">\" instead of \"<\" (often adjacent on keyboards) may permanently delete the file you were just needing to read.\n",
      "in terms of legibility, a sequence of commands starting with cat and connected by pipes has a clear left-to-right flow of information.\n",
      "cat command is one of the basic commands that you learned when you started in the unix / linux world.\n",
      "using cat command, the lines received from stdin can be redirected to a new file using redirection symbols.\n",
      "when you type simply cat command without any arguments, it just receives the stdin content and displays it in the stdout.\n",
      "leopard was released on october 26, 2007 as the successor of tiger (version 10.4), and is available in two editions.\n",
      "according to apple, leopard contains over 300 changes and enhancements over its predecessor, mac os x tiger.\n",
      "as of mid 2010, some apple computers have firmware factory installed which will no longer allow installation of mac os x leopard.\n",
      "since apple moved to using intel processors in their computers, the osx86 community has developed and now also allows mac os x tiger and later releases to be installed on non-apple x86-based computers.\n",
      "os x mountain lion was released on july 25, 2012 for purchase and download through apple's mac app store, as part of a switch to releasing os x versions online and every year.\n",
      "apple has released a small patch for the three most recent versions of safari running on os x yosemite, mavericks, and mountain lion.\n",
      "the mountain lion release marks the second time apple has offered an incremental upgrade, rather than releasing a new cat entirely.\n",
      "mac os x mountain lion installs in place, so you won't need to create a separate disk or run the installation off an external drive.\n",
      "the fifth major update to mac os x, leopard, contains such a mountain of features - more than 300 by apple's count.\n",
      "\n"
     ]
    }
   ],
   "source": [
    "print lower_text"
   ]
  },
  {
   "cell_type": "code",
   "execution_count": 19,
   "metadata": {
    "collapsed": true
   },
   "outputs": [],
   "source": [
    "import re"
   ]
  },
  {
   "cell_type": "code",
   "execution_count": 20,
   "metadata": {
    "collapsed": true
   },
   "outputs": [],
   "source": [
    "all_words = re.split('[^a-z]', lower_text)"
   ]
  },
  {
   "cell_type": "code",
   "execution_count": 28,
   "metadata": {},
   "outputs": [
    {
     "name": "stdout",
     "output_type": "stream",
     "text": [
      "['in', 'comparison', 'to', 'dogs', '', 'cats', 'have', 'not', 'undergone', 'major', 'changes', 'during', 'the', 'domestication', 'process', '', 'as', 'cat', 'simply', 'catenates', 'streams', 'of', 'bytes', '', 'it', 'can', 'be', 'also', 'used', 'to', 'concatenate', 'binary', 'files', '', 'where', 'it', 'will', 'just', 'concatenate', 'sequence', 'of', 'bytes', '', 'a', 'common', 'interactive', 'use', 'of', 'cat', 'for', 'a', 'single', 'file', 'is', 'to', 'output', 'the', 'content', 'of', 'a', 'file', 'to', 'standard', 'output', '', 'cats', 'can', 'hear', 'sounds', 'too', 'faint', 'or', 'too', 'high', 'in', 'frequency', 'for', 'human', 'ears', '', 'such', 'as', 'those', 'made', 'by', 'mice', 'and', 'other', 'small', 'animals', '', 'in', 'one', '', 'people', 'deliberately', 'tamed', 'cats', 'in', 'a', 'process', 'of', 'artificial', 'selection', '', 'as', 'they', 'were', 'useful', 'predators', 'of', 'vermin', '', 'the', 'domesticated', 'cat', 'and', 'its', 'closest', 'wild', 'ancestor', 'are', 'both', 'diploid', 'organisms', 'that', 'possess', '', '', '', 'chromosomes', 'and', 'roughly', '', '', '', '', '', '', '', 'genes', '', 'domestic', 'cats', 'are', 'similar', 'in', 'size', 'to', 'the', 'other', 'members', 'of', 'the', 'genus', 'felis', '', 'typically', 'weighing', 'between', '', '', 'and', '', '', 'kg', '', '', '', '', '', 'and', '', '', '', '', '', 'lb', '', '', 'however', '', 'if', 'the', 'output', 'is', 'piped', 'or', 'redirected', '', 'cat', 'is', 'unnecessary', '', 'cat', 'with', 'one', 'named', 'file', 'is', 'safer', 'where', 'human', 'error', 'is', 'a', 'concern', '', '', 'one', 'wrong', 'use', 'of', 'the', 'default', 'redirection', 'symbol', '', '', '', '', 'instead', 'of', '', '', '', '', '', 'often', 'adjacent', 'on', 'keyboards', '', 'may', 'permanently', 'delete', 'the', 'file', 'you', 'were', 'just', 'needing', 'to', 'read', '', 'in', 'terms', 'of', 'legibility', '', 'a', 'sequence', 'of', 'commands', 'starting', 'with', 'cat', 'and', 'connected', 'by', 'pipes', 'has', 'a', 'clear', 'left', 'to', 'right', 'flow', 'of', 'information', '', 'cat', 'command', 'is', 'one', 'of', 'the', 'basic', 'commands', 'that', 'you', 'learned', 'when', 'you', 'started', 'in', 'the', 'unix', '', '', 'linux', 'world', '', 'using', 'cat', 'command', '', 'the', 'lines', 'received', 'from', 'stdin', 'can', 'be', 'redirected', 'to', 'a', 'new', 'file', 'using', 'redirection', 'symbols', '', 'when', 'you', 'type', 'simply', 'cat', 'command', 'without', 'any', 'arguments', '', 'it', 'just', 'receives', 'the', 'stdin', 'content', 'and', 'displays', 'it', 'in', 'the', 'stdout', '', 'leopard', 'was', 'released', 'on', 'october', '', '', '', '', '', '', '', '', '', 'as', 'the', 'successor', 'of', 'tiger', '', 'version', '', '', '', '', '', '', '', 'and', 'is', 'available', 'in', 'two', 'editions', '', 'according', 'to', 'apple', '', 'leopard', 'contains', 'over', '', '', '', '', 'changes', 'and', 'enhancements', 'over', 'its', 'predecessor', '', 'mac', 'os', 'x', 'tiger', '', 'as', 'of', 'mid', '', '', '', '', '', '', 'some', 'apple', 'computers', 'have', 'firmware', 'factory', 'installed', 'which', 'will', 'no', 'longer', 'allow', 'installation', 'of', 'mac', 'os', 'x', 'leopard', '', 'since', 'apple', 'moved', 'to', 'using', 'intel', 'processors', 'in', 'their', 'computers', '', 'the', 'osx', '', '', 'community', 'has', 'developed', 'and', 'now', 'also', 'allows', 'mac', 'os', 'x', 'tiger', 'and', 'later', 'releases', 'to', 'be', 'installed', 'on', 'non', 'apple', 'x', '', '', 'based', 'computers', '', 'os', 'x', 'mountain', 'lion', 'was', 'released', 'on', 'july', '', '', '', '', '', '', '', '', '', 'for', 'purchase', 'and', 'download', 'through', 'apple', 's', 'mac', 'app', 'store', '', 'as', 'part', 'of', 'a', 'switch', 'to', 'releasing', 'os', 'x', 'versions', 'online', 'and', 'every', 'year', '', 'apple', 'has', 'released', 'a', 'small', 'patch', 'for', 'the', 'three', 'most', 'recent', 'versions', 'of', 'safari', 'running', 'on', 'os', 'x', 'yosemite', '', 'mavericks', '', 'and', 'mountain', 'lion', '', 'the', 'mountain', 'lion', 'release', 'marks', 'the', 'second', 'time', 'apple', 'has', 'offered', 'an', 'incremental', 'upgrade', '', 'rather', 'than', 'releasing', 'a', 'new', 'cat', 'entirely', '', 'mac', 'os', 'x', 'mountain', 'lion', 'installs', 'in', 'place', '', 'so', 'you', 'won', 't', 'need', 'to', 'create', 'a', 'separate', 'disk', 'or', 'run', 'the', 'installation', 'off', 'an', 'external', 'drive', '', 'the', 'fifth', 'major', 'update', 'to', 'mac', 'os', 'x', '', 'leopard', '', 'contains', 'such', 'a', 'mountain', 'of', 'features', '', '', 'more', 'than', '', '', '', '', 'by', 'apple', 's', 'count', '', '']\n"
     ]
    }
   ],
   "source": [
    "print all_words"
   ]
  },
  {
   "cell_type": "code",
   "execution_count": 29,
   "metadata": {
    "collapsed": true
   },
   "outputs": [],
   "source": [
    "all_words_clear = []\n",
    "for word in all_words:\n",
    "    if word != '':\n",
    "        all_words_clear.append(word)"
   ]
  },
  {
   "cell_type": "code",
   "execution_count": 30,
   "metadata": {},
   "outputs": [
    {
     "name": "stdout",
     "output_type": "stream",
     "text": [
      "['in', 'comparison', 'to', 'dogs', 'cats', 'have', 'not', 'undergone', 'major', 'changes', 'during', 'the', 'domestication', 'process', 'as', 'cat', 'simply', 'catenates', 'streams', 'of', 'bytes', 'it', 'can', 'be', 'also', 'used', 'to', 'concatenate', 'binary', 'files', 'where', 'it', 'will', 'just', 'concatenate', 'sequence', 'of', 'bytes', 'a', 'common', 'interactive', 'use', 'of', 'cat', 'for', 'a', 'single', 'file', 'is', 'to', 'output', 'the', 'content', 'of', 'a', 'file', 'to', 'standard', 'output', 'cats', 'can', 'hear', 'sounds', 'too', 'faint', 'or', 'too', 'high', 'in', 'frequency', 'for', 'human', 'ears', 'such', 'as', 'those', 'made', 'by', 'mice', 'and', 'other', 'small', 'animals', 'in', 'one', 'people', 'deliberately', 'tamed', 'cats', 'in', 'a', 'process', 'of', 'artificial', 'selection', 'as', 'they', 'were', 'useful', 'predators', 'of', 'vermin', 'the', 'domesticated', 'cat', 'and', 'its', 'closest', 'wild', 'ancestor', 'are', 'both', 'diploid', 'organisms', 'that', 'possess', 'chromosomes', 'and', 'roughly', 'genes', 'domestic', 'cats', 'are', 'similar', 'in', 'size', 'to', 'the', 'other', 'members', 'of', 'the', 'genus', 'felis', 'typically', 'weighing', 'between', 'and', 'kg', 'and', 'lb', 'however', 'if', 'the', 'output', 'is', 'piped', 'or', 'redirected', 'cat', 'is', 'unnecessary', 'cat', 'with', 'one', 'named', 'file', 'is', 'safer', 'where', 'human', 'error', 'is', 'a', 'concern', 'one', 'wrong', 'use', 'of', 'the', 'default', 'redirection', 'symbol', 'instead', 'of', 'often', 'adjacent', 'on', 'keyboards', 'may', 'permanently', 'delete', 'the', 'file', 'you', 'were', 'just', 'needing', 'to', 'read', 'in', 'terms', 'of', 'legibility', 'a', 'sequence', 'of', 'commands', 'starting', 'with', 'cat', 'and', 'connected', 'by', 'pipes', 'has', 'a', 'clear', 'left', 'to', 'right', 'flow', 'of', 'information', 'cat', 'command', 'is', 'one', 'of', 'the', 'basic', 'commands', 'that', 'you', 'learned', 'when', 'you', 'started', 'in', 'the', 'unix', 'linux', 'world', 'using', 'cat', 'command', 'the', 'lines', 'received', 'from', 'stdin', 'can', 'be', 'redirected', 'to', 'a', 'new', 'file', 'using', 'redirection', 'symbols', 'when', 'you', 'type', 'simply', 'cat', 'command', 'without', 'any', 'arguments', 'it', 'just', 'receives', 'the', 'stdin', 'content', 'and', 'displays', 'it', 'in', 'the', 'stdout', 'leopard', 'was', 'released', 'on', 'october', 'as', 'the', 'successor', 'of', 'tiger', 'version', 'and', 'is', 'available', 'in', 'two', 'editions', 'according', 'to', 'apple', 'leopard', 'contains', 'over', 'changes', 'and', 'enhancements', 'over', 'its', 'predecessor', 'mac', 'os', 'x', 'tiger', 'as', 'of', 'mid', 'some', 'apple', 'computers', 'have', 'firmware', 'factory', 'installed', 'which', 'will', 'no', 'longer', 'allow', 'installation', 'of', 'mac', 'os', 'x', 'leopard', 'since', 'apple', 'moved', 'to', 'using', 'intel', 'processors', 'in', 'their', 'computers', 'the', 'osx', 'community', 'has', 'developed', 'and', 'now', 'also', 'allows', 'mac', 'os', 'x', 'tiger', 'and', 'later', 'releases', 'to', 'be', 'installed', 'on', 'non', 'apple', 'x', 'based', 'computers', 'os', 'x', 'mountain', 'lion', 'was', 'released', 'on', 'july', 'for', 'purchase', 'and', 'download', 'through', 'apple', 's', 'mac', 'app', 'store', 'as', 'part', 'of', 'a', 'switch', 'to', 'releasing', 'os', 'x', 'versions', 'online', 'and', 'every', 'year', 'apple', 'has', 'released', 'a', 'small', 'patch', 'for', 'the', 'three', 'most', 'recent', 'versions', 'of', 'safari', 'running', 'on', 'os', 'x', 'yosemite', 'mavericks', 'and', 'mountain', 'lion', 'the', 'mountain', 'lion', 'release', 'marks', 'the', 'second', 'time', 'apple', 'has', 'offered', 'an', 'incremental', 'upgrade', 'rather', 'than', 'releasing', 'a', 'new', 'cat', 'entirely', 'mac', 'os', 'x', 'mountain', 'lion', 'installs', 'in', 'place', 'so', 'you', 'won', 't', 'need', 'to', 'create', 'a', 'separate', 'disk', 'or', 'run', 'the', 'installation', 'off', 'an', 'external', 'drive', 'the', 'fifth', 'major', 'update', 'to', 'mac', 'os', 'x', 'leopard', 'contains', 'such', 'a', 'mountain', 'of', 'features', 'more', 'than', 'by', 'apple', 's', 'count']\n"
     ]
    }
   ],
   "source": [
    "print all_words_clear"
   ]
  },
  {
   "cell_type": "code",
   "execution_count": 34,
   "metadata": {},
   "outputs": [
    {
     "data": {
      "text/plain": [
       "484"
      ]
     },
     "execution_count": 34,
     "metadata": {},
     "output_type": "execute_result"
    }
   ],
   "source": [
    "len(all_words_clear)"
   ]
  },
  {
   "cell_type": "code",
   "execution_count": 38,
   "metadata": {},
   "outputs": [
    {
     "name": "stdout",
     "output_type": "stream",
     "text": [
      "254\n"
     ]
    }
   ],
   "source": [
    "words_dict = dict()\n",
    "word_num = 0\n",
    "for word in all_words_clear:\n",
    "    if word not in words_dict:\n",
    "        words_dict[word] = word_num\n",
    "        word_num += 1\n",
    "print word_num"
   ]
  },
  {
   "cell_type": "code",
   "execution_count": 39,
   "metadata": {},
   "outputs": [
    {
     "name": "stdout",
     "output_type": "stream",
     "text": [
      "{'displays': 155, 'osx': 192, 'selection': 67, 'safari': 221, 'just': 31, 'developed': 194, 'over': 170, 'vermin': 72, 'domestic': 87, 'named': 104, 'installed': 181, 'symbols': 149, 'through': 206, 'human': 51, 'world': 142, 'disk': 244, 'its': 74, 'fifth': 249, 'features': 251, 'tamed': 65, 'upgrade': 232, 'lb': 97, 'drive': 248, 'to': 2, 'won': 239, 'deliberately': 64, 'marks': 226, 'has': 129, 'predecessor': 172, 'non': 199, 'which': 182, 'read': 122, 'october': 160, 'every': 215, 'os': 174, 'they': 68, 'not': 6, 'during': 10, 'now': 195, 'possess': 83, 'intel': 189, 'keyboards': 116, 'bytes': 20, 'unnecessary': 102, 'patch': 217, 'predators': 71, 'small': 60, 'output': 41, 'entirely': 235, 'where': 29, 'ears': 52, 'available': 164, 'on': 115, 'often': 113, 'sequence': 32, 'some': 177, 'lion': 202, 'frequency': 50, 'are': 78, 'year': 216, 'download': 205, 'terms': 123, 'concern': 107, 'error': 106, 'for': 37, 'pipes': 128, 'since': 187, 'factory': 180, 'artificial': 66, 'content': 42, 'version': 163, 'run': 245, 'between': 95, 'new': 148, 'learned': 137, 'three': 218, 'piped': 100, 'common': 34, 'concatenate': 26, 'be': 23, 'weighing': 94, 'genes': 86, 'use': 36, 'standard': 43, 'release': 225, 'diploid': 80, 'members': 90, 'x': 175, 'based': 200, 'safer': 105, 'by': 56, 'both': 79, 'commands': 125, 'installation': 186, 'installs': 236, 'of': 19, 'needing': 121, 'allows': 196, 'according': 167, 'july': 203, 'later': 197, 'mac': 173, 's': 207, 'streams': 18, 'receives': 154, 'successor': 161, 'catenates': 17, 'changes': 9, 'or': 48, 'felis': 92, 'major': 8, 'faint': 47, 'useful': 70, 'apple': 168, 'app': 208, 'community': 193, 'one': 62, 'running': 222, 'unix': 140, 'right': 132, 'simply': 16, 'linux': 141, 'sounds': 45, 'size': 89, 'undergone': 7, 'delete': 119, 'from': 146, 'enhancements': 171, 'second': 227, 'their': 191, 'create': 242, 'people': 63, 'two': 165, 't': 240, 'redirection': 110, 'however': 98, 'cats': 4, 'too': 46, 'basic': 136, 'permanently': 118, 'type': 150, 'dogs': 3, 'store': 209, 'more': 252, 'files': 28, 'releases': 198, 'that': 82, 'started': 139, 'contains': 169, 'releasing': 212, 'tiger': 162, 'released': 159, 'part': 210, 'hear': 44, 'external': 247, 'editions': 166, 'off': 246, 'mice': 57, 'with': 103, 'than': 234, 'those': 54, 'longer': 184, 'count': 253, 'made': 55, 'animals': 61, 'mavericks': 224, 'versions': 213, 'default': 109, 'was': 158, 'single': 38, 'cat': 15, 'will': 30, 'can': 22, 'were': 69, 'wild': 76, 'similar': 88, 'interactive': 35, 'and': 58, 'mountain': 201, 'computers': 178, 'have': 5, 'stdout': 156, 'process': 13, 'lines': 144, 'is': 40, 'received': 145, 'moved': 188, 'it': 21, 'an': 230, 'high': 49, 'as': 14, 'incremental': 231, 'file': 39, 'in': 0, 'need': 241, 'domesticated': 73, 'any': 152, 'domestication': 12, 'if': 99, 'binary': 27, 'processors': 190, 'no': 183, 'rather': 233, 'legibility': 124, 'separate': 243, 'firmware': 179, 'when': 138, 'mid': 176, 'also': 24, 'other': 59, 'arguments': 153, 'adjacent': 114, 'online': 214, 'instead': 112, 'you': 120, 'ancestor': 77, 'offered': 229, 'used': 25, 'chromosomes': 84, 'closest': 75, 'information': 134, 'may': 117, 'symbol': 111, 'leopard': 157, 'update': 250, 'most': 219, 'wrong': 108, 'connected': 127, 'yosemite': 223, 'such': 53, 'comparison': 1, 'recent': 220, 'a': 33, 'purchase': 204, 'genus': 91, 'kg': 96, 'organisms': 81, 'using': 143, 'starting': 126, 'clear': 130, 'stdin': 147, 'flow': 133, 'roughly': 85, 'so': 238, 'switch': 211, 'without': 151, 'command': 135, 'place': 237, 'allow': 185, 'time': 228, 'redirected': 101, 'the': 11, 'typically': 93, 'left': 131}\n"
     ]
    }
   ],
   "source": [
    "print words_dict"
   ]
  },
  {
   "cell_type": "code",
   "execution_count": 40,
   "metadata": {
    "collapsed": true
   },
   "outputs": [],
   "source": [
    "import numpy as np"
   ]
  },
  {
   "cell_type": "code",
   "execution_count": 43,
   "metadata": {
    "collapsed": true
   },
   "outputs": [],
   "source": [
    "word_matrix = np.zeros((22,254))"
   ]
  },
  {
   "cell_type": "code",
   "execution_count": 44,
   "metadata": {},
   "outputs": [
    {
     "name": "stdout",
     "output_type": "stream",
     "text": [
      "[[ 0.  0.  0. ...,  0.  0.  0.]\n",
      " [ 0.  0.  0. ...,  0.  0.  0.]\n",
      " [ 0.  0.  0. ...,  0.  0.  0.]\n",
      " ..., \n",
      " [ 0.  0.  0. ...,  0.  0.  0.]\n",
      " [ 0.  0.  0. ...,  0.  0.  0.]\n",
      " [ 0.  0.  0. ...,  0.  0.  0.]]\n"
     ]
    }
   ],
   "source": [
    "print word_matrix"
   ]
  },
  {
   "cell_type": "code",
   "execution_count": 51,
   "metadata": {
    "collapsed": true
   },
   "outputs": [],
   "source": [
    "sentances_list = lower_text.split('\\n')"
   ]
  },
  {
   "cell_type": "code",
   "execution_count": 75,
   "metadata": {
    "collapsed": true
   },
   "outputs": [],
   "source": [
    "sentances_matrix = []\n",
    "for sentance in sentances_list:\n",
    "    sentances_matrix.append(re.split('[^a-z]', sentance))"
   ]
  },
  {
   "cell_type": "code",
   "execution_count": 76,
   "metadata": {},
   "outputs": [
    {
     "name": "stdout",
     "output_type": "stream",
     "text": [
      "22\n",
      "[['in', 'comparison', 'to', 'dogs', '', 'cats', 'have', 'not', 'undergone', 'major', 'changes', 'during', 'the', 'domestication', 'process', ''], ['as', 'cat', 'simply', 'catenates', 'streams', 'of', 'bytes', '', 'it', 'can', 'be', 'also', 'used', 'to', 'concatenate', 'binary', 'files', '', 'where', 'it', 'will', 'just', 'concatenate', 'sequence', 'of', 'bytes', ''], ['a', 'common', 'interactive', 'use', 'of', 'cat', 'for', 'a', 'single', 'file', 'is', 'to', 'output', 'the', 'content', 'of', 'a', 'file', 'to', 'standard', 'output', ''], ['cats', 'can', 'hear', 'sounds', 'too', 'faint', 'or', 'too', 'high', 'in', 'frequency', 'for', 'human', 'ears', '', 'such', 'as', 'those', 'made', 'by', 'mice', 'and', 'other', 'small', 'animals', ''], ['in', 'one', '', 'people', 'deliberately', 'tamed', 'cats', 'in', 'a', 'process', 'of', 'artificial', 'selection', '', 'as', 'they', 'were', 'useful', 'predators', 'of', 'vermin', ''], ['the', 'domesticated', 'cat', 'and', 'its', 'closest', 'wild', 'ancestor', 'are', 'both', 'diploid', 'organisms', 'that', 'possess', '', '', '', 'chromosomes', 'and', 'roughly', '', '', '', '', '', '', '', 'genes', ''], ['domestic', 'cats', 'are', 'similar', 'in', 'size', 'to', 'the', 'other', 'members', 'of', 'the', 'genus', 'felis', '', 'typically', 'weighing', 'between', '', '', 'and', '', '', 'kg', '', '', '', '', '', 'and', '', '', '', '', '', 'lb', '', ''], ['however', '', 'if', 'the', 'output', 'is', 'piped', 'or', 'redirected', '', 'cat', 'is', 'unnecessary', ''], ['cat', 'with', 'one', 'named', 'file', 'is', 'safer', 'where', 'human', 'error', 'is', 'a', 'concern', '', '', 'one', 'wrong', 'use', 'of', 'the', 'default', 'redirection', 'symbol', '', '', '', '', 'instead', 'of', '', '', '', '', '', 'often', 'adjacent', 'on', 'keyboards', '', 'may', 'permanently', 'delete', 'the', 'file', 'you', 'were', 'just', 'needing', 'to', 'read', ''], ['in', 'terms', 'of', 'legibility', '', 'a', 'sequence', 'of', 'commands', 'starting', 'with', 'cat', 'and', 'connected', 'by', 'pipes', 'has', 'a', 'clear', 'left', 'to', 'right', 'flow', 'of', 'information', ''], ['cat', 'command', 'is', 'one', 'of', 'the', 'basic', 'commands', 'that', 'you', 'learned', 'when', 'you', 'started', 'in', 'the', 'unix', '', '', 'linux', 'world', ''], ['using', 'cat', 'command', '', 'the', 'lines', 'received', 'from', 'stdin', 'can', 'be', 'redirected', 'to', 'a', 'new', 'file', 'using', 'redirection', 'symbols', ''], ['when', 'you', 'type', 'simply', 'cat', 'command', 'without', 'any', 'arguments', '', 'it', 'just', 'receives', 'the', 'stdin', 'content', 'and', 'displays', 'it', 'in', 'the', 'stdout', ''], ['leopard', 'was', 'released', 'on', 'october', '', '', '', '', '', '', '', '', '', 'as', 'the', 'successor', 'of', 'tiger', '', 'version', '', '', '', '', '', '', '', 'and', 'is', 'available', 'in', 'two', 'editions', ''], ['according', 'to', 'apple', '', 'leopard', 'contains', 'over', '', '', '', '', 'changes', 'and', 'enhancements', 'over', 'its', 'predecessor', '', 'mac', 'os', 'x', 'tiger', ''], ['as', 'of', 'mid', '', '', '', '', '', '', 'some', 'apple', 'computers', 'have', 'firmware', 'factory', 'installed', 'which', 'will', 'no', 'longer', 'allow', 'installation', 'of', 'mac', 'os', 'x', 'leopard', ''], ['since', 'apple', 'moved', 'to', 'using', 'intel', 'processors', 'in', 'their', 'computers', '', 'the', 'osx', '', '', 'community', 'has', 'developed', 'and', 'now', 'also', 'allows', 'mac', 'os', 'x', 'tiger', 'and', 'later', 'releases', 'to', 'be', 'installed', 'on', 'non', 'apple', 'x', '', '', 'based', 'computers', ''], ['os', 'x', 'mountain', 'lion', 'was', 'released', 'on', 'july', '', '', '', '', '', '', '', '', '', 'for', 'purchase', 'and', 'download', 'through', 'apple', 's', 'mac', 'app', 'store', '', 'as', 'part', 'of', 'a', 'switch', 'to', 'releasing', 'os', 'x', 'versions', 'online', 'and', 'every', 'year', ''], ['apple', 'has', 'released', 'a', 'small', 'patch', 'for', 'the', 'three', 'most', 'recent', 'versions', 'of', 'safari', 'running', 'on', 'os', 'x', 'yosemite', '', 'mavericks', '', 'and', 'mountain', 'lion', ''], ['the', 'mountain', 'lion', 'release', 'marks', 'the', 'second', 'time', 'apple', 'has', 'offered', 'an', 'incremental', 'upgrade', '', 'rather', 'than', 'releasing', 'a', 'new', 'cat', 'entirely', ''], ['mac', 'os', 'x', 'mountain', 'lion', 'installs', 'in', 'place', '', 'so', 'you', 'won', 't', 'need', 'to', 'create', 'a', 'separate', 'disk', 'or', 'run', 'the', 'installation', 'off', 'an', 'external', 'drive', ''], ['the', 'fifth', 'major', 'update', 'to', 'mac', 'os', 'x', '', 'leopard', '', 'contains', 'such', 'a', 'mountain', 'of', 'features', '', '', 'more', 'than', '', '', '', '', 'by', 'apple', 's', 'count', '']]\n"
     ]
    }
   ],
   "source": [
    "del sentances_matrix[-1]\n",
    "print len(sentances_matrix)\n",
    "print filter(None, sentances_matrix)"
   ]
  },
  {
   "cell_type": "code",
   "execution_count": 77,
   "metadata": {
    "collapsed": true
   },
   "outputs": [],
   "source": [
    "sentance_num = 0\n",
    "for sentance in sentances_matrix:\n",
    "    for word in sentance:\n",
    "        if (word in words_dict):\n",
    "            word_matrix[sentance_num, words_dict.get(word)] += 1\n",
    "    sentance_num += 1"
   ]
  },
  {
   "cell_type": "code",
   "execution_count": 78,
   "metadata": {},
   "outputs": [
    {
     "name": "stdout",
     "output_type": "stream",
     "text": [
      "[[ 1.  1.  1. ...,  0.  0.  0.]\n",
      " [ 0.  0.  1. ...,  0.  0.  0.]\n",
      " [ 0.  0.  2. ...,  0.  0.  0.]\n",
      " ..., \n",
      " [ 0.  0.  0. ...,  0.  0.  0.]\n",
      " [ 1.  0.  1. ...,  0.  0.  0.]\n",
      " [ 0.  0.  1. ...,  1.  1.  1.]]\n"
     ]
    }
   ],
   "source": [
    "print word_matrix"
   ]
  },
  {
   "cell_type": "code",
   "execution_count": 104,
   "metadata": {
    "collapsed": true
   },
   "outputs": [],
   "source": [
    "import scipy\n",
    "from scipy import spatial"
   ]
  },
  {
   "cell_type": "code",
   "execution_count": 134,
   "metadata": {},
   "outputs": [
    {
     "name": "stdout",
     "output_type": "stream",
     "text": [
      "[[ 1.  1.  1.  1.  1.  1.  1.  1.  1.  1.  1.  1.  1.  1.  0.  0.  0.  0.\n",
      "   0.  0.  0.  0.  0.  0.  0.  0.  0.  0.  0.  0.  0.  0.  0.  0.  0.  0.\n",
      "   0.  0.  0.  0.  0.  0.  0.  0.  0.  0.  0.  0.  0.  0.  0.  0.  0.  0.\n",
      "   0.  0.  0.  0.  0.  0.  0.  0.  0.  0.  0.  0.  0.  0.  0.  0.  0.  0.\n",
      "   0.  0.  0.  0.  0.  0.  0.  0.  0.  0.  0.  0.  0.  0.  0.  0.  0.  0.\n",
      "   0.  0.  0.  0.  0.  0.  0.  0.  0.  0.  0.  0.  0.  0.  0.  0.  0.  0.\n",
      "   0.  0.  0.  0.  0.  0.  0.  0.  0.  0.  0.  0.  0.  0.  0.  0.  0.  0.\n",
      "   0.  0.  0.  0.  0.  0.  0.  0.  0.  0.  0.  0.  0.  0.  0.  0.  0.  0.\n",
      "   0.  0.  0.  0.  0.  0.  0.  0.  0.  0.  0.  0.  0.  0.  0.  0.  0.  0.\n",
      "   0.  0.  0.  0.  0.  0.  0.  0.  0.  0.  0.  0.  0.  0.  0.  0.  0.  0.\n",
      "   0.  0.  0.  0.  0.  0.  0.  0.  0.  0.  0.  0.  0.  0.  0.  0.  0.  0.\n",
      "   0.  0.  0.  0.  0.  0.  0.  0.  0.  0.  0.  0.  0.  0.  0.  0.  0.  0.\n",
      "   0.  0.  0.  0.  0.  0.  0.  0.  0.  0.  0.  0.  0.  0.  0.  0.  0.  0.\n",
      "   0.  0.  0.  0.  0.  0.  0.  0.  0.  0.  0.  0.  0.  0.  0.  0.  0.  0.\n",
      "   0.  0.]]\n",
      "<type 'numpy.ndarray'>\n"
     ]
    }
   ],
   "source": [
    "print word_matrix[0][np.newaxis, :]\n",
    "print type(word_matrix[0][np.newaxis, :])"
   ]
  },
  {
   "cell_type": "code",
   "execution_count": 133,
   "metadata": {},
   "outputs": [
    {
     "name": "stdout",
     "output_type": "stream",
     "text": [
      "0.0472455591262\n"
     ]
    }
   ],
   "source": [
    "print 1 - scipy.spatial.distance.cosine(word_matrix[0][np.newaxis, :],word_matrix[1][np.newaxis, :])"
   ]
  },
  {
   "cell_type": "code",
   "execution_count": 138,
   "metadata": {},
   "outputs": [
    {
     "name": "stdout",
     "output_type": "stream",
     "text": [
      "[ 1.          0.04724556  0.13552619  0.10482848  0.22291129  0.05976143\n",
      "  0.26726124  0.07412493  0.11572751  0.09449112  0.16718346  0.11952286\n",
      "  0.16035675  0.12964074  0.12598816  0.05572782  0.15936381  0.0433555\n",
      "  0.05572782  0.11145564  0.15724273  0.17496355]\n"
     ]
    }
   ],
   "source": [
    "results = np.array([])\n",
    "for sentance in word_matrix:\n",
    "    results = np.append(results, 1 - scipy.spatial.distance.cosine(word_matrix[0][np.newaxis, :],sentance[np.newaxis, :]))\n",
    "print results"
   ]
  },
  {
   "cell_type": "code",
   "execution_count": 146,
   "metadata": {},
   "outputs": [
    {
     "name": "stdout",
     "output_type": "stream",
     "text": [
      "<type 'set'>\n",
      "[(1.0, 0), (0.2672612419124244, 6), (0.22291128503014113, 4), (0.17496355305594136, 21), (0.16718346377260584, 10), (0.16035674514745457, 12), (0.15936381457791915, 16), (0.15724272550828777, 20), (0.13552618543578765, 2), (0.12964074471043285, 13), (0.12598815766974236, 14), (0.11952286093343933, 11), (0.11572751247156898, 8), (0.11145564251507056, 19), (0.10482848367219177, 3), (0.094491118252306827, 9), (0.074124931666110117, 7), (0.059761430466719667, 5), (0.055727821257535282, 18), (0.055727821257535282, 15), (0.047245559126153358, 1), (0.043355498476206011, 17)]\n"
     ]
    }
   ],
   "source": [
    "sentance_num = 0\n",
    "sentance_num_vs_result = set()\n",
    "print type(sentance_num_vs_result)\n",
    "for result in results:\n",
    "    sentance_num_vs_result.add((result, sentance_num))\n",
    "    sentance_num += 1\n",
    "    \n",
    "sentance_num_vs_result = sorted(sentance_num_vs_result, reverse=True)\n",
    "print sentance_num_vs_result"
   ]
  },
  {
   "cell_type": "code",
   "execution_count": 152,
   "metadata": {},
   "outputs": [
    {
     "name": "stdout",
     "output_type": "stream",
     "text": [
      "Sentance num =  0  result =  1.0 \n",
      "in comparison to dogs, cats have not undergone major changes during the domestication process. \n",
      "\n",
      "Sentance num =  6  result =  0.267261241912 \n",
      "domestic cats are similar in size to the other members of the genus felis, typically weighing between 4 and 5 kg (8.8 and 11.0 lb). \n",
      "\n",
      "Sentance num =  4  result =  0.22291128503 \n",
      "in one, people deliberately tamed cats in a process of artificial selection, as they were useful predators of vermin. \n",
      "\n",
      "Sentance num =  21  result =  0.174963553056 \n",
      "the fifth major update to mac os x, leopard, contains such a mountain of features - more than 300 by apple's count. \n",
      "\n",
      "Sentance num =  10  result =  0.167183463773 \n",
      "cat command is one of the basic commands that you learned when you started in the unix / linux world. \n",
      "\n",
      "Sentance num =  12  result =  0.160356745147 \n",
      "when you type simply cat command without any arguments, it just receives the stdin content and displays it in the stdout. \n",
      "\n",
      "Sentance num =  16  result =  0.159363814578 \n",
      "since apple moved to using intel processors in their computers, the osx86 community has developed and now also allows mac os x tiger and later releases to be installed on non-apple x86-based computers. \n",
      "\n",
      "Sentance num =  20  result =  0.157242725508 \n",
      "mac os x mountain lion installs in place, so you won't need to create a separate disk or run the installation off an external drive. \n",
      "\n",
      "Sentance num =  2  result =  0.135526185436 \n",
      "a common interactive use of cat for a single file is to output the content of a file to standard output. \n",
      "\n",
      "Sentance num =  13  result =  0.12964074471 \n",
      "leopard was released on october 26, 2007 as the successor of tiger (version 10.4), and is available in two editions. \n",
      "\n",
      "Sentance num =  14  result =  0.12598815767 \n",
      "according to apple, leopard contains over 300 changes and enhancements over its predecessor, mac os x tiger. \n",
      "\n",
      "Sentance num =  11  result =  0.119522860933 \n",
      "using cat command, the lines received from stdin can be redirected to a new file using redirection symbols. \n",
      "\n",
      "Sentance num =  8  result =  0.115727512472 \n",
      "cat with one named file is safer where human error is a concern - one wrong use of the default redirection symbol \">\" instead of \"<\" (often adjacent on keyboards) may permanently delete the file you were just needing to read. \n",
      "\n",
      "Sentance num =  19  result =  0.111455642515 \n",
      "the mountain lion release marks the second time apple has offered an incremental upgrade, rather than releasing a new cat entirely. \n",
      "\n",
      "Sentance num =  3  result =  0.104828483672 \n",
      "cats can hear sounds too faint or too high in frequency for human ears, such as those made by mice and other small animals. \n",
      "\n",
      "Sentance num =  9  result =  0.0944911182523 \n",
      "in terms of legibility, a sequence of commands starting with cat and connected by pipes has a clear left-to-right flow of information. \n",
      "\n",
      "Sentance num =  7  result =  0.0741249316661 \n",
      "however, if the output is piped or redirected, cat is unnecessary. \n",
      "\n",
      "Sentance num =  5  result =  0.0597614304667 \n",
      "the domesticated cat and its closest wild ancestor are both diploid organisms that possess 38 chromosomes and roughly 20,000 genes. \n",
      "\n",
      "Sentance num =  18  result =  0.0557278212575 \n",
      "apple has released a small patch for the three most recent versions of safari running on os x yosemite, mavericks, and mountain lion. \n",
      "\n",
      "Sentance num =  15  result =  0.0557278212575 \n",
      "as of mid 2010, some apple computers have firmware factory installed which will no longer allow installation of mac os x leopard. \n",
      "\n",
      "Sentance num =  1  result =  0.0472455591262 \n",
      "as cat simply catenates streams of bytes, it can be also used to concatenate binary files, where it will just concatenate sequence of bytes. \n",
      "\n",
      "Sentance num =  17  result =  0.0433554984762 \n",
      "os x mountain lion was released on july 25, 2012 for purchase and download through apple's mac app store, as part of a switch to releasing os x versions online and every year. \n",
      "\n"
     ]
    }
   ],
   "source": [
    "for result in sentance_num_vs_result:\n",
    "    print 'Sentance num = ', result[1] , ' result = ', result[0], '\\n', sentances_list[result[1]], '\\n'"
   ]
  },
  {
   "cell_type": "code",
   "execution_count": 165,
   "metadata": {},
   "outputs": [
    {
     "name": "stdout",
     "output_type": "stream",
     "text": [
      "6 4\n"
     ]
    }
   ],
   "source": [
    "string = str(sentance_num_vs_result[1][1]) + ' ' + str(sentance_num_vs_result[2][1])\n",
    "print string"
   ]
  },
  {
   "cell_type": "code",
   "execution_count": 166,
   "metadata": {
    "collapsed": true
   },
   "outputs": [],
   "source": [
    "file_obj = open('submission-1.txt', 'w')\n",
    "file_obj.write(string)\n",
    "file_obj.close()"
   ]
  },
  {
   "cell_type": "markdown",
   "metadata": {},
   "source": [
    "# Task 2"
   ]
  },
  {
   "cell_type": "code",
   "execution_count": 11,
   "metadata": {
    "collapsed": true
   },
   "outputs": [],
   "source": [
    "import numpy as np\n",
    "import math"
   ]
  },
  {
   "cell_type": "code",
   "execution_count": 46,
   "metadata": {
    "collapsed": true
   },
   "outputs": [],
   "source": [
    "def f(x):\n",
    "    return math.sin(x / 5.) * math.exp(x / 10.) + 5 * math.exp(-x / 2.)"
   ]
  },
  {
   "cell_type": "code",
   "execution_count": 47,
   "metadata": {},
   "outputs": [
    {
     "name": "stdout",
     "output_type": "stream",
     "text": [
      "[  1.    1.5   2.    2.5   3.    3.5   4.    4.5   5.    5.5   6.    6.5\n",
      "   7.    7.5   8.    8.5   9.    9.5  10.   10.5  11.   11.5  12.   12.5\n",
      "  13.   13.5  14.   14.5  15. ]\n"
     ]
    }
   ],
   "source": [
    "x_arr = np.arange(1,15.5,0.5)\n",
    "print x_arr"
   ]
  },
  {
   "cell_type": "code",
   "execution_count": 49,
   "metadata": {},
   "outputs": [
    {
     "name": "stdout",
     "output_type": "stream",
     "text": [
      "[ 3.25221687  2.70517826  2.31503384  2.04811856  1.87783842  1.78305813\n",
      "  1.74684595  1.75549726  1.7977761   1.86432715  1.94722128  2.03960608\n",
      "  2.13543898  2.22928563  2.31617016  2.39146662  2.45082365  2.49011575\n",
      "  2.50541641  2.4929888   2.44929128  2.37099482  2.2550105   2.0985253\n",
      "  1.89904466  1.65444046  1.36300335  1.02349816  0.63522142]\n"
     ]
    }
   ],
   "source": [
    "y_arr_func = np.array(())\n",
    "for val in x_arr:\n",
    "    y_arr_func = np.append(y_arr_func, f(val))\n",
    "print y_arr_func"
   ]
  },
  {
   "cell_type": "code",
   "execution_count": 50,
   "metadata": {
    "collapsed": true
   },
   "outputs": [],
   "source": [
    "%matplotlib inline\n",
    "import matplotlib.pyplot as plt"
   ]
  },
  {
   "cell_type": "code",
   "execution_count": 51,
   "metadata": {},
   "outputs": [
    {
     "data": {
      "image/png": "[encoded data removed]",
      "text/plain": [
       "<matplotlib.figure.Figure at 0x7db9668>"
      ]
     },
     "metadata": {},
     "output_type": "display_data"
    }
   ],
   "source": [
    "plt.plot(x_arr, y_arr_func)\n",
    "plt.show()"
   ]
  },
  {
   "cell_type": "code",
   "execution_count": 63,
   "metadata": {},
   "outputs": [
    {
     "name": "stdout",
     "output_type": "stream",
     "text": [
      "[[ 1  1]\n",
      " [ 1 15]]\n"
     ]
    }
   ],
   "source": [
    "a1 = np.array([[1, 1], [1, 15]])\n",
    "print a1"
   ]
  },
  {
   "cell_type": "code",
   "execution_count": 64,
   "metadata": {},
   "outputs": [
    {
     "name": "stdout",
     "output_type": "stream",
     "text": [
      "[ 3.25221687  0.63522142]\n"
     ]
    }
   ],
   "source": [
    "b1 = np.array([f(1), f(15)])\n",
    "print b1"
   ]
  },
  {
   "cell_type": "code",
   "execution_count": 65,
   "metadata": {},
   "outputs": [
    {
     "name": "stdout",
     "output_type": "stream",
     "text": [
      "[ 3.43914511 -0.18692825]\n"
     ]
    }
   ],
   "source": [
    "x1 = np.linalg.solve(a1, b1)\n",
    "print x1"
   ]
  },
  {
   "cell_type": "code",
   "execution_count": 66,
   "metadata": {},
   "outputs": [
    {
     "name": "stdout",
     "output_type": "stream",
     "text": [
      "[ 3.25221687  0.63522142]\n"
     ]
    }
   ],
   "source": [
    "print a1.dot(x1)"
   ]
  },
  {
   "cell_type": "code",
   "execution_count": 67,
   "metadata": {
    "collapsed": true
   },
   "outputs": [],
   "source": [
    "def f1(x):\n",
    "    return x1[0] + x1[1] * x"
   ]
  },
  {
   "cell_type": "code",
   "execution_count": 68,
   "metadata": {},
   "outputs": [
    {
     "name": "stdout",
     "output_type": "stream",
     "text": [
      "[ 3.25221687  3.15875274  3.06528862  2.9718245   2.87836037  2.78489625\n",
      "  2.69143213  2.597968    2.50450388  2.41103976  2.31757563  2.22411151\n",
      "  2.13064739  2.03718327  1.94371914  1.85025502  1.7567909   1.66332677\n",
      "  1.56986265  1.47639853  1.3829344   1.28947028  1.19600616  1.10254203\n",
      "  1.00907791  0.91561379  0.82214967  0.72868554  0.63522142]\n"
     ]
    }
   ],
   "source": [
    "y_arr_func_1 = np.array(())\n",
    "for val in x_arr:\n",
    "    y_arr_func_1 = np.append(y_arr_func_1, f1(val))\n",
    "print y_arr_func_1"
   ]
  },
  {
   "cell_type": "code",
   "execution_count": 69,
   "metadata": {},
   "outputs": [
    {
     "data": {
      "image/png": "[encoded data removed]",
      "text/plain": [
       "<matplotlib.figure.Figure at 0x8390358>"
      ]
     },
     "metadata": {},
     "output_type": "display_data"
    }
   ],
   "source": [
    "plt.plot(x_arr, y_arr_func)\n",
    "plt.plot(x_arr, y_arr_func_1)\n",
    "plt.show()"
   ]
  },
  {
   "cell_type": "code",
   "execution_count": 61,
   "metadata": {},
   "outputs": [
    {
     "name": "stdout",
     "output_type": "stream",
     "text": [
      "[[  1   1   1]\n",
      " [  1   8  64]\n",
      " [  1  15 225]]\n"
     ]
    }
   ],
   "source": [
    "a2 = np.array([[1, 1, 1], [1, 8, 8*8], [1, 15, 15*15]])\n",
    "print a2"
   ]
  },
  {
   "cell_type": "code",
   "execution_count": 62,
   "metadata": {},
   "outputs": [
    {
     "name": "stdout",
     "output_type": "stream",
     "text": [
      "[ 3.25221687  2.31617016  0.63522142]\n"
     ]
    }
   ],
   "source": [
    "b2 = np.array([f(1.), f(8.), f(15.)])\n",
    "print b2"
   ]
  },
  {
   "cell_type": "code",
   "execution_count": 70,
   "metadata": {},
   "outputs": [
    {
     "name": "stdout",
     "output_type": "stream",
     "text": [
      "[ 3.32512949 -0.06531159 -0.00760104]\n"
     ]
    }
   ],
   "source": [
    "x2 = np.linalg.solve(a2, b2)\n",
    "print x2"
   ]
  },
  {
   "cell_type": "code",
   "execution_count": 71,
   "metadata": {},
   "outputs": [
    {
     "name": "stdout",
     "output_type": "stream",
     "text": [
      "[ 3.25221687  2.31617016  0.63522142]\n"
     ]
    }
   ],
   "source": [
    "print a2.dot(x2)"
   ]
  },
  {
   "cell_type": "code",
   "execution_count": 72,
   "metadata": {
    "collapsed": true
   },
   "outputs": [],
   "source": [
    "def f2(x):\n",
    "    return x2[0] + x2[1] * x + x2[2] * x * x"
   ]
  },
  {
   "cell_type": "code",
   "execution_count": 73,
   "metadata": {},
   "outputs": [
    {
     "name": "stdout",
     "output_type": "stream",
     "text": [
      "[ 3.25221687  3.21005977  3.16410215  3.11434402  3.06078536  3.00342618\n",
      "  2.94226649  2.87730627  2.80854553  2.73598427  2.65962249  2.57946019\n",
      "  2.49549736  2.40773402  2.31617016  2.22080578  2.12164087  2.01867545\n",
      "  1.9119095   1.80134304  1.68697605  1.56880854  1.44684052  1.32107197\n",
      "  1.1915029   1.05813331  0.9209632   0.77999257  0.63522142]\n"
     ]
    }
   ],
   "source": [
    "y_arr_func_2 = np.array(())\n",
    "for val in x_arr:\n",
    "    y_arr_func_2 = np.append(y_arr_func_2, f2(val))\n",
    "print y_arr_func_2"
   ]
  },
  {
   "cell_type": "code",
   "execution_count": 74,
   "metadata": {},
   "outputs": [
    {
     "data": {
      "image/png": "[encoded data removed]",
      "text/plain": [
       "<matplotlib.figure.Figure at 0x8582d30>"
      ]
     },
     "metadata": {},
     "output_type": "display_data"
    }
   ],
   "source": [
    "plt.plot(x_arr, y_arr_func)\n",
    "plt.plot(x_arr, y_arr_func_1)\n",
    "plt.plot(x_arr, y_arr_func_2)\n",
    "plt.show()"
   ]
  },
  {
   "cell_type": "code",
   "execution_count": 75,
   "metadata": {},
   "outputs": [
    {
     "name": "stdout",
     "output_type": "stream",
     "text": [
      "[[   1    1    1    1]\n",
      " [   1    4   16   64]\n",
      " [   1   10  100 1000]\n",
      " [   1   15  225 3375]]\n"
     ]
    }
   ],
   "source": [
    "a3 = np.array([[1, 1, 1, 1], [1, 4, 4*4, 4*4*4], [1, 10, 10*10, 10*10*10], [1, 15, 15*15, 15*15*15]])\n",
    "print a3"
   ]
  },
  {
   "cell_type": "code",
   "execution_count": 76,
   "metadata": {},
   "outputs": [
    {
     "name": "stdout",
     "output_type": "stream",
     "text": [
      "[ 3.25221687  1.74684595  2.50541641  0.63522142]\n"
     ]
    }
   ],
   "source": [
    "b3 = np.array([f(1.), f(4.), f(10.), f(15.)])\n",
    "print b3"
   ]
  },
  {
   "cell_type": "code",
   "execution_count": 77,
   "metadata": {},
   "outputs": [
    {
     "name": "stdout",
     "output_type": "stream",
     "text": [
      "[ 4.36264154 -1.29552587  0.19333685 -0.00823565]\n"
     ]
    }
   ],
   "source": [
    "x3 = np.linalg.solve(a3, b3)\n",
    "print x3"
   ]
  },
  {
   "cell_type": "code",
   "execution_count": 78,
   "metadata": {},
   "outputs": [
    {
     "name": "stdout",
     "output_type": "stream",
     "text": [
      "[ 3.25221687  1.74684595  2.50541641  0.63522142]\n"
     ]
    }
   ],
   "source": [
    "print a3.dot(x3)"
   ]
  },
  {
   "cell_type": "code",
   "execution_count": 79,
   "metadata": {
    "collapsed": true
   },
   "outputs": [],
   "source": [
    "def f3(x):\n",
    "    return x3[0] + x3[1] * x + x3[2] * x * x + x3[3] * x * x * x"
   ]
  },
  {
   "cell_type": "code",
   "execution_count": 84,
   "metadata": {},
   "outputs": [
    {
     "name": "stdout",
     "output_type": "stream",
     "text": [
      "[ 3.25221687  2.82656532  2.47905198  2.20350012  1.99373298  1.84357384\n",
      "  1.74684595  1.69737258  1.68897699  1.71548243  1.77071218  1.84848949\n",
      "  1.94263763  2.04697985  2.15533942  2.2615396   2.35940365  2.44275483\n",
      "  2.50541641  2.54121164  2.54396379  2.50749612  2.42563189  2.29219436\n",
      "  2.1010068   1.84589246  1.52067461  1.11917651  0.63522142]\n"
     ]
    }
   ],
   "source": [
    "y_arr_func_3 = np.array(())\n",
    "for val in x_arr:\n",
    "    y_arr_func_3 = np.append(y_arr_func_3, f3(val))\n",
    "print y_arr_func_3"
   ]
  },
  {
   "cell_type": "code",
   "execution_count": 85,
   "metadata": {},
   "outputs": [
    {
     "data": {
      "image/png": "[encoded data removed]",
      "text/plain": [
       "<matplotlib.figure.Figure at 0x84aaf28>"
      ]
     },
     "metadata": {},
     "output_type": "display_data"
    }
   ],
   "source": [
    "plt.plot(x_arr, y_arr_func)\n",
    "plt.plot(x_arr, y_arr_func_1)\n",
    "plt.plot(x_arr, y_arr_func_2)\n",
    "plt.plot(x_arr, y_arr_func_3)\n",
    "plt.show()"
   ]
  },
  {
   "cell_type": "code",
   "execution_count": 88,
   "metadata": {},
   "outputs": [
    {
     "name": "stdout",
     "output_type": "stream",
     "text": [
      "4.36264153512 -1.29552586569 0.193336847022 -0.00823565117332\n"
     ]
    }
   ],
   "source": [
    "string = str(x3[0]) + ' ' + str(x3[1]) + ' ' + str(x3[2]) + ' ' + str(x3[3])\n",
    "print string"
   ]
  },
  {
   "cell_type": "code",
   "execution_count": 89,
   "metadata": {
    "collapsed": true
   },
   "outputs": [],
   "source": [
    "file_obj = open('submission-2.txt', 'w')\n",
    "file_obj.write(string)\n",
    "file_obj.close()"
   ]
  },
  {
   "cell_type": "code",
   "execution_count": null,
   "metadata": {
    "collapsed": true
   },
   "outputs": [],
   "source": []
  }
 ],
 "metadata": {
  "kernelspec": {
   "display_name": "Python 3",
   "language": "python",
   "name": "python3"
  },
  "language_info": {
   "codemirror_mode": {
    "name": "ipython",
    "version": 3
   },
   "file_extension": ".py",
   "mimetype": "text/x-python",
   "name": "python",
   "nbconvert_exporter": "python",
   "pygments_lexer": "ipython3",
   "version": "3.6.1"
  }
 },
 "nbformat": 4,
 "nbformat_minor": 2
}
